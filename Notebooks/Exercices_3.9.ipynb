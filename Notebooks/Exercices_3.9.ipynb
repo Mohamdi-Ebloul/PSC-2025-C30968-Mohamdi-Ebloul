{
 "cells": [
  {
   "cell_type": "markdown",
   "id": "74c8af6d",
   "metadata": {},
   "source": [
    "# Exercices 3.9"
   ]
  },
  {
   "cell_type": "markdown",
   "id": "e32d8dbe-bd11-4f18-9aa7-b8f39d62799e",
   "metadata": {},
   "source": [
    "# exo1"
   ]
  },
  {
   "cell_type": "code",
   "execution_count": 53,
   "id": "8d1df0ad",
   "metadata": {},
   "outputs": [
    {
     "name": "stdout",
     "output_type": "stream",
     "text": [
      "L3 = [1, 2, 1, 2, 1, 2]\n"
     ]
    }
   ],
   "source": [
    "L = [1, 2]\n",
    "L3 = 3 * L\n",
    "print(\"L3 =\", L3)  # [1, 2, 1, 2, 1, 2]\n"
   ]
  },
  {
   "cell_type": "markdown",
   "id": "c702d598-95ed-43c9-9b5f-3b8b43a416f4",
   "metadata": {},
   "source": [
    "#### L3 contient la liste L répétée 3 fois : [1, 2, 1, 2, 1, 2]"
   ]
  },
  {
   "cell_type": "code",
   "execution_count": 54,
   "id": "d13df0c9-da7e-420a-bd61-0595753a66dd",
   "metadata": {},
   "outputs": [
    {
     "name": "stdout",
     "output_type": "stream",
     "text": [
      "L3[0] = 1\n",
      "L3[-1] = 2\n"
     ]
    }
   ],
   "source": [
    "print(\"L3[0] =\", L3[0])     \n",
    "print(\"L3[-1] =\", L3[-1]) "
   ]
  },
  {
   "cell_type": "markdown",
   "id": "65028671-32b4-4037-a45e-ea71d972a20a",
   "metadata": {},
   "source": [
    "#### print(\"L3[10] =\", L3[10])  # Erreur : IndexError"
   ]
  },
  {
   "cell_type": "code",
   "execution_count": 55,
   "id": "2905c2eb-23d6-4c16-ad9b-5bff5edfb944",
   "metadata": {},
   "outputs": [
    {
     "name": "stdout",
     "output_type": "stream",
     "text": [
      "L4 = [1, 4, 1, 4, 1, 4]\n"
     ]
    }
   ],
   "source": [
    "L4 = [k**2 for k in L3]\n",
    "print(\"L4 =\", L4)  "
   ]
  },
  {
   "cell_type": "code",
   "execution_count": 56,
   "id": "96083ea0-5c15-4195-bd2c-56b372133436",
   "metadata": {},
   "outputs": [
    {
     "name": "stdout",
     "output_type": "stream",
     "text": [
      "L5 = [1, 2, 1, 2, 1, 2, 1, 4, 1, 4, 1, 4]\n"
     ]
    }
   ],
   "source": [
    "L5 = L3 + L4\n",
    "print(\"L5 =\", L5)"
   ]
  },
  {
   "cell_type": "markdown",
   "id": "f40087d3-1098-4851-9918-46e6ddef6fa3",
   "metadata": {},
   "source": [
    "# exo2"
   ]
  },
  {
   "cell_type": "code",
   "execution_count": 57,
   "id": "8129b607",
   "metadata": {},
   "outputs": [
    {
     "name": "stdout",
     "output_type": "stream",
     "text": [
      "[0.0, 0.010101010101010102, 0.020202020202020204, 0.030303030303030304, 0.04040404040404041] ... [0.9595959595959596, 0.9696969696969697, 0.9797979797979798, 0.98989898989899, 1.0]\n"
     ]
    }
   ],
   "source": [
    "values = [i / 99 for i in range(100)]\n",
    "print(values[:5], \"...\", values[-5:])  \n"
   ]
  },
  {
   "cell_type": "markdown",
   "id": "920d911e-b8a4-4a2b-b634-409d2cf51df4",
   "metadata": {},
   "source": [
    "# exo3"
   ]
  },
  {
   "cell_type": "code",
   "execution_count": 58,
   "id": "a47bb79d-4b3e-41c4-a85e-3d186bc74aee",
   "metadata": {},
   "outputs": [],
   "source": [
    "L = [0, 1, 2, 1, 0, -1, -2, -1, 0]"
   ]
  },
  {
   "cell_type": "code",
   "execution_count": 59,
   "id": "48671e24-673c-41e6-b5c2-ad06f2fb89e7",
   "metadata": {},
   "outputs": [
    {
     "name": "stdout",
     "output_type": "stream",
     "text": [
      "L[0] = 0\n"
     ]
    }
   ],
   "source": [
    "print(\"L[0] =\", L[0])     "
   ]
  },
  {
   "cell_type": "code",
   "execution_count": 60,
   "id": "38abb45e-33ae-4f1a-acb9-d02c3604bd9c",
   "metadata": {},
   "outputs": [
    {
     "name": "stdout",
     "output_type": "stream",
     "text": [
      "L[-1] = 0\n"
     ]
    }
   ],
   "source": [
    "print(\"L[-1] =\", L[-1])    "
   ]
  },
  {
   "cell_type": "code",
   "execution_count": 61,
   "id": "3b74a23f-af25-4177-b153-6c11f01d6ab5",
   "metadata": {},
   "outputs": [
    {
     "name": "stdout",
     "output_type": "stream",
     "text": [
      "L[:-1] = [0, 1, 2, 1, 0, -1, -2, -1]\n"
     ]
    }
   ],
   "source": [
    "print(\"L[:-1] =\", L[:-1])"
   ]
  },
  {
   "cell_type": "markdown",
   "id": "f38ba7ff-c598-4ca6-8eab-e414c41a36c0",
   "metadata": {},
   "source": [
    " #### tous sauf le dernier"
   ]
  },
  {
   "cell_type": "code",
   "execution_count": 62,
   "id": "394a9097-e90f-4d13-a403-69dd32912159",
   "metadata": {},
   "outputs": [
    {
     "name": "stdout",
     "output_type": "stream",
     "text": [
      "L + L[1:-1] + L = [0, 1, 2, 1, 0, -1, -2, -1, 0, 1, 2, 1, 0, -1, -2, -1, 0, 1, 2, 1, 0, -1, -2, -1, 0]\n"
     ]
    }
   ],
   "source": [
    "# 2. Combinaison\n",
    "print(\"L + L[1:-1] + L =\", L + L[1:-1] + L)"
   ]
  },
  {
   "cell_type": "code",
   "execution_count": 63,
   "id": "5fbdee49-4a4a-403f-9c3d-06de05838378",
   "metadata": {},
   "outputs": [],
   "source": [
    "# 3. Modifications de sous-listes\n",
    "L = [0,1,2,1,0,-1,-2,-1,0]"
   ]
  },
  {
   "cell_type": "code",
   "execution_count": 64,
   "id": "725df062-98e6-4e16-aac5-fc8962de6aa8",
   "metadata": {},
   "outputs": [],
   "source": [
    "L[2:2] = [-3] "
   ]
  },
  {
   "cell_type": "code",
   "execution_count": 65,
   "id": "cc93b6a2-a57c-4bfd-8bdd-c55449aadca8",
   "metadata": {},
   "outputs": [
    {
     "name": "stdout",
     "output_type": "stream",
     "text": [
      "Après insertion de -3 : [0, 1, -3, 2, 1, 0, -1, -2, -1, 0]\n"
     ]
    }
   ],
   "source": [
    "print(\"Après insertion de -3 :\", L)"
   ]
  },
  {
   "cell_type": "code",
   "execution_count": 66,
   "id": "6b855b61-4f4a-4b19-a3f9-bd2ee9f92e87",
   "metadata": {},
   "outputs": [],
   "source": [
    "L[3:4] = [] "
   ]
  },
  {
   "cell_type": "code",
   "execution_count": 67,
   "id": "c7d560a8-63a0-472f-aa25-39a8efcbe635",
   "metadata": {},
   "outputs": [
    {
     "name": "stdout",
     "output_type": "stream",
     "text": [
      "Après suppression de L[3]: [0, 1, -3, 1, 0, -1, -2, -1, 0]\n"
     ]
    }
   ],
   "source": [
    "print(\"Après suppression de L[3]:\", L)"
   ]
  },
  {
   "cell_type": "code",
   "execution_count": 68,
   "id": "05ce3a9e-cf6e-4410-89fe-7b2d95923f4f",
   "metadata": {},
   "outputs": [],
   "source": [
    "L[2:5] = [-5]  "
   ]
  },
  {
   "cell_type": "code",
   "execution_count": 69,
   "id": "338aa3c7-fec6-4193-ac61-402cc8819159",
   "metadata": {},
   "outputs": [
    {
     "name": "stdout",
     "output_type": "stream",
     "text": [
      "Après remplacement L[2:5] = [0, 1, -5, -1, -2, -1, 0]\n"
     ]
    }
   ],
   "source": [
    "print(\"Après remplacement L[2:5] =\", L)"
   ]
  },
  {
   "cell_type": "markdown",
   "id": "ae079772-bbfe-4266-9ac7-c38a959fab62",
   "metadata": {},
   "source": [
    "# exo4"
   ]
  },
  {
   "cell_type": "code",
   "execution_count": 70,
   "id": "39cbc9e2-0cc5-491f-8ea7-2e649277f38b",
   "metadata": {},
   "outputs": [
    {
     "name": "stdout",
     "output_type": "stream",
     "text": [
      "ans = 0.0\n"
     ]
    }
   ],
   "source": [
    "m = 4\n",
    "L = [n - m / 2 for n in range(m)]\n",
    "ans = 1 + L[0] + L[-1]\n",
    "print(\"ans =\", ans)"
   ]
  },
  {
   "cell_type": "markdown",
   "id": "1aee8fbc-c67d-46ad-9e18-af90411d7212",
   "metadata": {},
   "source": [
    "# exo5"
   ]
  },
  {
   "cell_type": "code",
   "execution_count": 71,
   "id": "5bbe71d3-9035-4209-a4c5-4805055029d6",
   "metadata": {},
   "outputs": [],
   "source": [
    "import numpy as np\n",
    "import matplotlib.pyplot as plt\n",
    "\n",
    "h = 0.001\n",
    "a = -0.5\n",
    "N = 1000\n",
    "\n",
    "u = [np.exp(0), np.exp(a * h), np.exp(2 * a * h)]\n",
    "\n",
    "for n in range(N - 2):  \n",
    "    next_u = u[-1] + h * a * ((23/12) * u[-1] - (4/3) * u[-2] + (5/12) * u[-3])\n",
    "    u.append(next_u)\n",
    "\n",
    "t = np.array([n * h for n in range(N + 1)])\n",
    "\n",
    "exact = np.exp(a * t)\n",
    "\n",
    "diff = np.abs(exact - u)\n"
   ]
  },
  {
   "cell_type": "markdown",
   "id": "2da8a3f4-d09c-4aad-997b-5707185fb048",
   "metadata": {},
   "source": [
    "#### Tracé numérique vs exact"
   ]
  },
  {
   "cell_type": "code",
   "execution_count": 72,
   "id": "962694ef-e96a-4151-b553-b32910719e16",
   "metadata": {},
   "outputs": [
    {
     "data": {
      "image/png": "[encoded data removed]",
      "text/plain": [
       "<Figure size 1000x500 with 1 Axes>"
      ]
     },
     "metadata": {},
     "output_type": "display_data"
    }
   ],
   "source": [
    "plt.figure(figsize=(10, 5))\n",
    "plt.plot(t, u, label='Solution numérique u_n', color='blue')\n",
    "plt.plot(t, exact, label='Solution exacte $e^{at}$', linestyle='--', color='orange')\n",
    "plt.xlabel('Temps t')\n",
    "plt.ylabel('u')\n",
    "plt.title('Solution numérique ou exacte')\n",
    "plt.legend()\n",
    "plt.grid(True)\n",
    "plt.show()"
   ]
  },
  {
   "cell_type": "markdown",
   "id": "93f3b060-470b-46db-8b30-767d1eadf6c7",
   "metadata": {},
   "source": [
    "#### Traçage de l'erreur"
   ]
  },
  {
   "cell_type": "code",
   "execution_count": 73,
   "id": "524110bc-a9de-47cb-9aa1-548df0dd45c2",
   "metadata": {},
   "outputs": [
    {
     "data": {
      "image/png": "[encoded data removed]",
      "text/plain": [
       "<Figure size 1000x400 with 1 Axes>"
      ]
     },
     "metadata": {},
     "output_type": "display_data"
    }
   ],
   "source": [
    "plt.figure(figsize=(10, 4))\n",
    "plt.plot(t, diff, label='|u_n - e^{at}|', color='red')\n",
    "plt.xlabel('Temps t')\n",
    "plt.ylabel('Erreur')\n",
    "plt.title('Erreur entre la solution numérique et la solution exacte')\n",
    "plt.grid(True)\n",
    "plt.legend()\n",
    "plt.show()"
   ]
  },
  {
   "cell_type": "markdown",
   "id": "48ee9f68-c64b-40bb-ba18-e0538a3e8edd",
   "metadata": {},
   "source": [
    "# exo6"
   ]
  },
  {
   "cell_type": "code",
   "execution_count": 74,
   "id": "5a4d814b-6200-43e1-aa0a-d2a92767f054",
   "metadata": {},
   "outputs": [
    {
     "name": "stdout",
     "output_type": "stream",
     "text": [
      "Différence symétrique manuelle: {1, 2, 5, 6}\n",
      "Utilisation de la méthode intégrée: {1, 2, 5, 6}\n"
     ]
    }
   ],
   "source": [
    "def symmetric_difference_manual(A, B):\n",
    "    return (A - B).union(B - A)\n",
    "\n",
    "A = {1, 2, 3, 4}\n",
    "B = {3, 4, 5, 6}\n",
    "\n",
    "print(\"Différence symétrique manuelle:\", symmetric_difference_manual(A, B))\n",
    "print(\"Utilisation de la méthode intégrée:\", A.symmetric_difference(B))\n"
   ]
  },
  {
   "cell_type": "markdown",
   "id": "d7fd1cab-d151-4d61-96a1-37cc6a172181",
   "metadata": {},
   "source": [
    "# exo7"
   ]
  },
  {
   "cell_type": "code",
   "execution_count": 75,
   "id": "fc7e049c-733d-40f4-9144-696a82476aff",
   "metadata": {},
   "outputs": [
    {
     "name": "stdout",
     "output_type": "stream",
     "text": [
      "L'ensemble vide est-il un sous-ensemble d'un ensemble ? True\n"
     ]
    }
   ],
   "source": [
    "empty_set = set()\n",
    "some_set = {1, 2, 3}\n",
    "\n",
    "is_subset = empty_set.issubset(some_set)\n",
    "\n",
    "print(\"L'ensemble vide est-il un sous-ensemble d'un ensemble ?\", is_subset)\n"
   ]
  },
  {
   "cell_type": "markdown",
   "id": "bb1472a4-a165-4847-b8ec-83da6ae28f56",
   "metadata": {},
   "source": [
    "# exo8"
   ]
  },
  {
   "cell_type": "code",
   "execution_count": 76,
   "id": "f5be486a-b575-4f92-a4c2-c6e52d5be284",
   "metadata": {},
   "outputs": [],
   "source": [
    "A = {1, 2, 3, 4}\n",
    "B = {3, 4, 5, 6}"
   ]
  },
  {
   "cell_type": "markdown",
   "id": "f44ca5a4-9a15-440f-8d04-1df5a07a7e8c",
   "metadata": {},
   "source": [
    "#### update "
   ]
  },
  {
   "cell_type": "code",
   "execution_count": 77,
   "id": "4b8d82a8-e5d1-47da-a793-ca75a24ac272",
   "metadata": {},
   "outputs": [
    {
     "name": "stdout",
     "output_type": "stream",
     "text": [
      "Après la mise à jour (A ∪ B): {1, 2, 3, 4, 5, 6}\n"
     ]
    }
   ],
   "source": [
    "A1 = A.copy()\n",
    "A1.update(B)\n",
    "print(\"Après la mise à jour (A ∪ B):\", A1)"
   ]
  },
  {
   "cell_type": "markdown",
   "id": "b4e9e644-86e1-496b-ba98-2a5eff285a9b",
   "metadata": {},
   "source": [
    "#### intersection_update"
   ]
  },
  {
   "cell_type": "code",
   "execution_count": 78,
   "id": "8985e1b2-e57f-4e06-939d-ef498ce523d3",
   "metadata": {},
   "outputs": [
    {
     "name": "stdout",
     "output_type": "stream",
     "text": [
      "Après intersection_update(A ∩ B): {3, 4}\n"
     ]
    }
   ],
   "source": [
    "A2 = A.copy()\n",
    "A2.intersection_update(B)\n",
    "print(\"Après intersection_update(A ∩ B):\", A2)\n"
   ]
  }
 ],
 "metadata": {
  "kernelspec": {
   "display_name": "Python [conda env:base] *",
   "language": "python",
   "name": "conda-base-py"
  },
  "language_info": {
   "codemirror_mode": {
    "name": "ipython",
    "version": 3
   },
   "file_extension": ".py",
   "mimetype": "text/x-python",
   "name": "python",
   "nbconvert_exporter": "python",
   "pygments_lexer": "ipython3",
   "version": "3.13.5"
  }
 },
 "nbformat": 4,
 "nbformat_minor": 5
}
