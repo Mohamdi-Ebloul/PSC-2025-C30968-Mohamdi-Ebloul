{
 "cells": [
  {
   "cell_type": "markdown",
   "id": "d6c6dd4b",
   "metadata": {},
   "source": [
    "# Exercices 2.6"
   ]
  },
  {
   "cell_type": "markdown",
   "id": "f5f562fc-867f-4e59-adc3-5f8661ef7ab8",
   "metadata": {},
   "source": [
    "# Ex. 1"
   ]
  },
  {
   "cell_type": "code",
   "execution_count": 21,
   "id": "87b94eed-1ea6-40f8-8118-4bcda227c1ad",
   "metadata": {},
   "outputs": [
    {
     "name": "stdout",
     "output_type": "stream",
     "text": [
      "f(x) = 9.715\n",
      "x = 2.3 n'est PAS un zéro de la fonction.\n"
     ]
    }
   ],
   "source": [
    "x = 2.3\n",
    "f = x**2 - 0.25*x + 5\n",
    "print(\"f(x) =\", f)\n",
    "\n",
    "if abs(f) < 1e-8:\n",
    "    print(\"x = 2.3 est un zéro de la fonction.\")\n",
    "else:\n",
    "    print(\"x = 2.3 n'est PAS un zéro de la fonction.\")\n"
   ]
  },
  {
   "cell_type": "markdown",
   "id": "05ef9c13-3cf3-4163-ada6-7b14781153ca",
   "metadata": {},
   "source": [
    "# Ex. 2"
   ]
  },
  {
   "cell_type": "code",
   "execution_count": 15,
   "id": "3db419ee-8da7-441f-87d6-7e92567bd4b8",
   "metadata": {},
   "outputs": [
    {
     "name": "stdout",
     "output_type": "stream",
     "text": [
      "Left side: (-0.7071067811865474+0.7071067811865477j)\n",
      "Right side: (-0.7071067811865475+0.7071067811865476j)\n",
      "Equal: True\n"
     ]
    }
   ],
   "source": [
    "import numpy as np\n",
    "\n",
    "x = np.pi / 4  # 45°\n",
    "n = 3\n",
    "z = np.cos(x) + 1j * np.sin(x)\n",
    "left = z**n\n",
    "right = np.cos(n * x) + 1j * np.sin(n * x)\n",
    "\n",
    "print(\"Left :\", left)\n",
    "print(\"Right :\", right)\n",
    "print(\"Equal:\", np.allclose(left, right))\n"
   ]
  },
  {
   "cell_type": "markdown",
   "id": "0fbc39bb-09d2-4f8b-a4a8-bcd05843d23e",
   "metadata": {},
   "source": [
    "# Ex. 3"
   ]
  },
  {
   "cell_type": "code",
   "execution_count": 16,
   "id": "dcb2652e-faba-4380-a0d4-99e61d41765d",
   "metadata": {},
   "outputs": [
    {
     "name": "stdout",
     "output_type": "stream",
     "text": [
      "e^(ix): (0.5000000000000001+0.8660254037844386j)\n",
      "cos(x) + i*sin(x): (0.5000000000000001+0.8660254037844386j)\n",
      "Equal: True\n"
     ]
    }
   ],
   "source": [
    "x = np.pi / 3  # 60°\n",
    "left = np.exp(1j * x)\n",
    "right = np.cos(x) + 1j * np.sin(x)\n",
    "\n",
    "print(\"e^(ix):\", left)\n",
    "print(\"cos(x) + i*sin(x):\", right)\n",
    "print(\"Equal:\", np.allclose(left, right))\n"
   ]
  },
  {
   "cell_type": "markdown",
   "id": "fdacb640-8e3b-433c-a23a-9b5e92f6b54b",
   "metadata": {},
   "source": [
    "# Ex. 4"
   ]
  },
  {
   "cell_type": "code",
   "execution_count": 17,
   "id": "56ce41f6-8af7-4f71-a14c-e4aa7531360b",
   "metadata": {},
   "outputs": [
    {
     "name": "stdout",
     "output_type": "stream",
     "text": [
      "Convergence\n"
     ]
    }
   ],
   "source": [
    "u = 1.0\n",
    "uold = 10.0\n",
    "\n",
    "for iteration in range(2000):\n",
    "    if not abs(u - uold) > 1.e-8:\n",
    "        print('Convergence')\n",
    "        break\n",
    "    uold = u\n",
    "    u = 2 * u\n",
    "else:\n",
    "    print('No convergence')\n"
   ]
  },
  {
   "cell_type": "markdown",
   "id": "db273ce7-0826-48d5-9c10-d326aa6569cb",
   "metadata": {},
   "source": [
    "#### Replace if abs(u - uold) < 1.e-8:"
   ]
  },
  {
   "cell_type": "code",
   "execution_count": 18,
   "id": "70eaffbf-c42c-4b2e-801f-fb9c1c9e7847",
   "metadata": {},
   "outputs": [
    {
     "name": "stdout",
     "output_type": "stream",
     "text": [
      "No convergence\n"
     ]
    }
   ],
   "source": [
    "u = 1.0\n",
    "uold = 10.0\n",
    "\n",
    "for iteration in range(2000):\n",
    "    if abs(u - uold) < 1.e-8:\n",
    "        print('Convergence')\n",
    "        break\n",
    "    uold = u\n",
    "    u = 2 * u\n",
    "else:\n",
    "    print('No convergence')\n"
   ]
  },
  {
   "cell_type": "markdown",
   "id": "037e12e7-d279-4b50-a52c-ab7d49d521d2",
   "metadata": {},
   "source": [
    "#### Replace u = 1.0 par u = 1"
   ]
  },
  {
   "cell_type": "code",
   "execution_count": 19,
   "id": "9a19239b-a5df-40d2-bdb7-2e9febae7f8d",
   "metadata": {},
   "outputs": [
    {
     "name": "stdout",
     "output_type": "stream",
     "text": [
      "No convergence\n"
     ]
    }
   ],
   "source": [
    "u = 1\n",
    "uold = 10.0\n",
    "\n",
    "for iteration in range(2000):\n",
    "    if abs(u - uold) < 1.e-8:\n",
    "        print('Convergence')\n",
    "        break\n",
    "    uold = u\n",
    "    u = 2 * u\n",
    "else:\n",
    "    print('No convergence')\n"
   ]
  },
  {
   "cell_type": "markdown",
   "id": "2db81fcb-f889-4edb-89e5-913040c7a33d",
   "metadata": {},
   "source": [
    "# Ex. 5"
   ]
  },
  {
   "cell_type": "code",
   "execution_count": 20,
   "id": "5e34ba0d-375d-4088-a65f-ee41c18c349a",
   "metadata": {},
   "outputs": [
    {
     "name": "stdout",
     "output_type": "stream",
     "text": [
      "True\n",
      "False\n",
      "True\n",
      "True\n"
     ]
    }
   ],
   "source": [
    "def implication(A, B):\n",
    "    return not A or B\n",
    "\n",
    "print(implication(True, True))   \n",
    "print(implication(True, False))  \n",
    "print(implication(False, True))  \n",
    "print(implication(False, False)) \n"
   ]
  },
  {
   "cell_type": "markdown",
   "id": "a8387d57-cc88-434e-8f60-d9d177579ab7",
   "metadata": {},
   "source": [
    "# Ex. 6"
   ]
  },
  {
   "cell_type": "code",
   "execution_count": 25,
   "id": "9984ebe8-473d-4549-bcd1-d3ea04c78a1a",
   "metadata": {},
   "outputs": [
    {
     "name": "stdout",
     "output_type": "stream",
     "text": [
      "Half Adder Tests:\n",
      "p=0, q=0 => sum=0, carry=0\n",
      "p=0, q=1 => sum=1, carry=0\n",
      "p=1, q=0 => sum=1, carry=0\n",
      "p=1, q=1 => sum=0, carry=1\n",
      "\n",
      "Full Adder Tests:\n",
      "a=0, b=0, carry_in=0 => sum=0, carry_out=0\n",
      "a=0, b=0, carry_in=1 => sum=1, carry_out=0\n",
      "a=0, b=1, carry_in=0 => sum=1, carry_out=0\n",
      "a=0, b=1, carry_in=1 => sum=0, carry_out=1\n",
      "a=1, b=0, carry_in=0 => sum=1, carry_out=0\n",
      "a=1, b=0, carry_in=1 => sum=0, carry_out=1\n",
      "a=1, b=1, carry_in=0 => sum=0, carry_out=1\n",
      "a=1, b=1, carry_in=1 => sum=1, carry_out=1\n"
     ]
    }
   ],
   "source": [
    "def half_adder(p, q):\n",
    "    sum_ = p ^ q        \n",
    "    carry = p & q       \n",
    "    return sum_, carry\n",
    "\n",
    "def full_adder(a, b, carry_in):\n",
    "    sum1, carry1 = half_adder(a, b)\n",
    "    sum2, carry2 = half_adder(sum1, carry_in)\n",
    "    carry_out = carry1 | carry2  \n",
    "    return sum2, carry_out\n",
    "\n",
    "print(\"Half Adder Tests:\")\n",
    "for p in [0, 1]:\n",
    "    for q in [0, 1]:\n",
    "        sum_, carry = half_adder(p, q)\n",
    "        print(f\"p={p}, q={q} => sum={sum_}, carry={carry}\")\n",
    "\n",
    "print(\"\\nFull Adder Tests:\")\n",
    "for a in [0, 1]:\n",
    "    for b in [0, 1]:\n",
    "        for carry_in in [0, 1]:\n",
    "            sum_, carry_out = full_adder(a, b, carry_in)\n",
    "            print(f\"a={a}, b={b}, carry_in={carry_in} => sum={sum_}, carry_out={carry_out}\")\n",
    "\n"
   ]
  },
  {
   "cell_type": "code",
   "execution_count": null,
   "id": "2617be5e-452f-48ec-bf82-0d7380a53cff",
   "metadata": {},
   "outputs": [],
   "source": []
  }
 ],
 "metadata": {
  "kernelspec": {
   "display_name": "Python [conda env:base] *",
   "language": "python",
   "name": "conda-base-py"
  },
  "language_info": {
   "codemirror_mode": {
    "name": "ipython",
    "version": 3
   },
   "file_extension": ".py",
   "mimetype": "text/x-python",
   "name": "python",
   "nbconvert_exporter": "python",
   "pygments_lexer": "ipython3",
   "version": "3.13.5"
  }
 },
 "nbformat": 4,
 "nbformat_minor": 5
}
